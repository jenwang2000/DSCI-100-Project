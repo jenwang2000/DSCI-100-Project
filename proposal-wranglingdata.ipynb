{
 "cells": [
  {
   "cell_type": "code",
   "execution_count": 9,
   "id": "1f98ea9d-0651-48db-bd02-d10cfaa132ef",
   "metadata": {},
   "outputs": [],
   "source": [
    "### Importing Tidyverse functions\n",
    "\n",
    "library(repr)\n",
    "library(tidyverse)\n",
    "library(tidymodels)\n",
    "\n",
    "### Limits data frame outputs to 6 rows\n",
    "options(repr.matrix.max.rows = 6)"
   ]
  },
  {
   "cell_type": "code",
   "execution_count": 10,
   "id": "a5d4b663-b169-4f4f-babc-215cf6ae898b",
   "metadata": {},
   "outputs": [
    {
     "name": "stderr",
     "output_type": "stream",
     "text": [
      "\u001b[1m\u001b[22mNew names:\n",
      "\u001b[36m•\u001b[39m `` -> `...1`\n",
      "\u001b[1mRows: \u001b[22m\u001b[34m6866\u001b[39m \u001b[1mColumns: \u001b[22m\u001b[34m50\u001b[39m\n",
      "\u001b[36m──\u001b[39m \u001b[1mColumn specification\u001b[22m \u001b[36m────────────────────────────────────────────────────────\u001b[39m\n",
      "\u001b[1mDelimiter:\u001b[22m \",\"\n",
      "\u001b[31mchr\u001b[39m (16): tourney_id, tourney_name, surface, tourney_level, winner_seed, win...\n",
      "\u001b[32mdbl\u001b[39m (34): ...1, draw_size, tourney_date, match_num, winner_id, winner_ht, wi...\n",
      "\n",
      "\u001b[36mℹ\u001b[39m Use `spec()` to retrieve the full column specification for this data.\n",
      "\u001b[36mℹ\u001b[39m Specify the column types or set `show_col_types = FALSE` to quiet this message.\n"
     ]
    },
    {
     "data": {
      "text/html": [
       "<table class=\"dataframe\">\n",
       "<caption>A spec_tbl_df: 6866 × 50</caption>\n",
       "<thead>\n",
       "\t<tr><th scope=col>...1</th><th scope=col>tourney_id</th><th scope=col>tourney_name</th><th scope=col>surface</th><th scope=col>draw_size</th><th scope=col>tourney_level</th><th scope=col>tourney_date</th><th scope=col>match_num</th><th scope=col>winner_id</th><th scope=col>winner_seed</th><th scope=col>⋯</th><th scope=col>l_1stIn</th><th scope=col>l_1stWon</th><th scope=col>l_2ndWon</th><th scope=col>l_SvGms</th><th scope=col>l_bpSaved</th><th scope=col>l_bpFaced</th><th scope=col>winner_rank</th><th scope=col>winner_rank_points</th><th scope=col>loser_rank</th><th scope=col>loser_rank_points</th></tr>\n",
       "\t<tr><th scope=col>&lt;dbl&gt;</th><th scope=col>&lt;chr&gt;</th><th scope=col>&lt;chr&gt;</th><th scope=col>&lt;chr&gt;</th><th scope=col>&lt;dbl&gt;</th><th scope=col>&lt;chr&gt;</th><th scope=col>&lt;dbl&gt;</th><th scope=col>&lt;dbl&gt;</th><th scope=col>&lt;dbl&gt;</th><th scope=col>&lt;chr&gt;</th><th scope=col>⋯</th><th scope=col>&lt;dbl&gt;</th><th scope=col>&lt;dbl&gt;</th><th scope=col>&lt;dbl&gt;</th><th scope=col>&lt;dbl&gt;</th><th scope=col>&lt;dbl&gt;</th><th scope=col>&lt;dbl&gt;</th><th scope=col>&lt;dbl&gt;</th><th scope=col>&lt;dbl&gt;</th><th scope=col>&lt;dbl&gt;</th><th scope=col>&lt;dbl&gt;</th></tr>\n",
       "</thead>\n",
       "<tbody>\n",
       "\t<tr><td>0</td><td>2019-M020</td><td>Brisbane</td><td>Hard</td><td>32</td><td>A</td><td>20181231</td><td>300</td><td>105453</td><td>2</td><td>⋯</td><td>54</td><td>34</td><td>20</td><td>14</td><td>10</td><td>15</td><td> 9</td><td>3590</td><td> 16</td><td>1977</td></tr>\n",
       "\t<tr><td>1</td><td>2019-M020</td><td>Brisbane</td><td>Hard</td><td>32</td><td>A</td><td>20181231</td><td>299</td><td>106421</td><td>4</td><td>⋯</td><td>52</td><td>36</td><td> 7</td><td>10</td><td>10</td><td>13</td><td>16</td><td>1977</td><td>239</td><td> 200</td></tr>\n",
       "\t<tr><td>2</td><td>2019-M020</td><td>Brisbane</td><td>Hard</td><td>32</td><td>A</td><td>20181231</td><td>298</td><td>105453</td><td>2</td><td>⋯</td><td>27</td><td>15</td><td> 6</td><td> 8</td><td> 1</td><td> 5</td><td> 9</td><td>3590</td><td> 40</td><td>1050</td></tr>\n",
       "\t<tr><td>⋮</td><td>⋮</td><td>⋮</td><td>⋮</td><td>⋮</td><td>⋮</td><td>⋮</td><td>⋮</td><td>⋮</td><td>⋮</td><td>⋱</td><td>⋮</td><td>⋮</td><td>⋮</td><td>⋮</td><td>⋮</td><td>⋮</td><td>⋮</td><td>⋮</td><td>⋮</td><td>⋮</td></tr>\n",
       "\t<tr><td>2883</td><td>2017-M-DC-2017-WG-M-BEL-FRA-01</td><td>Davis Cup WG F: BEL vs FRA</td><td>Hard</td><td>4</td><td>D</td><td>20171124</td><td>2</td><td>104542</td><td>NA</td><td>⋯</td><td>54</td><td>30</td><td>12</td><td>12</td><td>5</td><td>11</td><td>15</td><td>2320</td><td>76</td><td> 667</td></tr>\n",
       "\t<tr><td>2884</td><td>2017-M-DC-2017-WG-M-BEL-FRA-01</td><td>Davis Cup WG F: BEL vs FRA</td><td>Hard</td><td>4</td><td>D</td><td>20171124</td><td>4</td><td>105676</td><td>NA</td><td>⋯</td><td>54</td><td>44</td><td>13</td><td>14</td><td>7</td><td>10</td><td> 7</td><td>3775</td><td>15</td><td>2320</td></tr>\n",
       "\t<tr><td>2885</td><td>2017-M-DC-2017-WG-M-BEL-FRA-01</td><td>Davis Cup WG F: BEL vs FRA</td><td>Hard</td><td>4</td><td>D</td><td>20171124</td><td>5</td><td>106298</td><td>NA</td><td>⋯</td><td>53</td><td>29</td><td>11</td><td>11</td><td>4</td><td>11</td><td>18</td><td>2235</td><td>76</td><td> 667</td></tr>\n",
       "</tbody>\n",
       "</table>\n"
      ],
      "text/latex": [
       "A spec\\_tbl\\_df: 6866 × 50\n",
       "\\begin{tabular}{lllllllllllllllllllll}\n",
       " ...1 & tourney\\_id & tourney\\_name & surface & draw\\_size & tourney\\_level & tourney\\_date & match\\_num & winner\\_id & winner\\_seed & ⋯ & l\\_1stIn & l\\_1stWon & l\\_2ndWon & l\\_SvGms & l\\_bpSaved & l\\_bpFaced & winner\\_rank & winner\\_rank\\_points & loser\\_rank & loser\\_rank\\_points\\\\\n",
       " <dbl> & <chr> & <chr> & <chr> & <dbl> & <chr> & <dbl> & <dbl> & <dbl> & <chr> & ⋯ & <dbl> & <dbl> & <dbl> & <dbl> & <dbl> & <dbl> & <dbl> & <dbl> & <dbl> & <dbl>\\\\\n",
       "\\hline\n",
       "\t 0 & 2019-M020 & Brisbane & Hard & 32 & A & 20181231 & 300 & 105453 & 2 & ⋯ & 54 & 34 & 20 & 14 & 10 & 15 &  9 & 3590 &  16 & 1977\\\\\n",
       "\t 1 & 2019-M020 & Brisbane & Hard & 32 & A & 20181231 & 299 & 106421 & 4 & ⋯ & 52 & 36 &  7 & 10 & 10 & 13 & 16 & 1977 & 239 &  200\\\\\n",
       "\t 2 & 2019-M020 & Brisbane & Hard & 32 & A & 20181231 & 298 & 105453 & 2 & ⋯ & 27 & 15 &  6 &  8 &  1 &  5 &  9 & 3590 &  40 & 1050\\\\\n",
       "\t ⋮ & ⋮ & ⋮ & ⋮ & ⋮ & ⋮ & ⋮ & ⋮ & ⋮ & ⋮ & ⋱ & ⋮ & ⋮ & ⋮ & ⋮ & ⋮ & ⋮ & ⋮ & ⋮ & ⋮ & ⋮\\\\\n",
       "\t 2883 & 2017-M-DC-2017-WG-M-BEL-FRA-01 & Davis Cup WG F: BEL vs FRA & Hard & 4 & D & 20171124 & 2 & 104542 & NA & ⋯ & 54 & 30 & 12 & 12 & 5 & 11 & 15 & 2320 & 76 &  667\\\\\n",
       "\t 2884 & 2017-M-DC-2017-WG-M-BEL-FRA-01 & Davis Cup WG F: BEL vs FRA & Hard & 4 & D & 20171124 & 4 & 105676 & NA & ⋯ & 54 & 44 & 13 & 14 & 7 & 10 &  7 & 3775 & 15 & 2320\\\\\n",
       "\t 2885 & 2017-M-DC-2017-WG-M-BEL-FRA-01 & Davis Cup WG F: BEL vs FRA & Hard & 4 & D & 20171124 & 5 & 106298 & NA & ⋯ & 53 & 29 & 11 & 11 & 4 & 11 & 18 & 2235 & 76 &  667\\\\\n",
       "\\end{tabular}\n"
      ],
      "text/markdown": [
       "\n",
       "A spec_tbl_df: 6866 × 50\n",
       "\n",
       "| ...1 &lt;dbl&gt; | tourney_id &lt;chr&gt; | tourney_name &lt;chr&gt; | surface &lt;chr&gt; | draw_size &lt;dbl&gt; | tourney_level &lt;chr&gt; | tourney_date &lt;dbl&gt; | match_num &lt;dbl&gt; | winner_id &lt;dbl&gt; | winner_seed &lt;chr&gt; | ⋯ ⋯ | l_1stIn &lt;dbl&gt; | l_1stWon &lt;dbl&gt; | l_2ndWon &lt;dbl&gt; | l_SvGms &lt;dbl&gt; | l_bpSaved &lt;dbl&gt; | l_bpFaced &lt;dbl&gt; | winner_rank &lt;dbl&gt; | winner_rank_points &lt;dbl&gt; | loser_rank &lt;dbl&gt; | loser_rank_points &lt;dbl&gt; |\n",
       "|---|---|---|---|---|---|---|---|---|---|---|---|---|---|---|---|---|---|---|---|---|\n",
       "| 0 | 2019-M020 | Brisbane | Hard | 32 | A | 20181231 | 300 | 105453 | 2 | ⋯ | 54 | 34 | 20 | 14 | 10 | 15 |  9 | 3590 |  16 | 1977 |\n",
       "| 1 | 2019-M020 | Brisbane | Hard | 32 | A | 20181231 | 299 | 106421 | 4 | ⋯ | 52 | 36 |  7 | 10 | 10 | 13 | 16 | 1977 | 239 |  200 |\n",
       "| 2 | 2019-M020 | Brisbane | Hard | 32 | A | 20181231 | 298 | 105453 | 2 | ⋯ | 27 | 15 |  6 |  8 |  1 |  5 |  9 | 3590 |  40 | 1050 |\n",
       "| ⋮ | ⋮ | ⋮ | ⋮ | ⋮ | ⋮ | ⋮ | ⋮ | ⋮ | ⋮ | ⋱ | ⋮ | ⋮ | ⋮ | ⋮ | ⋮ | ⋮ | ⋮ | ⋮ | ⋮ | ⋮ |\n",
       "| 2883 | 2017-M-DC-2017-WG-M-BEL-FRA-01 | Davis Cup WG F: BEL vs FRA | Hard | 4 | D | 20171124 | 2 | 104542 | NA | ⋯ | 54 | 30 | 12 | 12 | 5 | 11 | 15 | 2320 | 76 |  667 |\n",
       "| 2884 | 2017-M-DC-2017-WG-M-BEL-FRA-01 | Davis Cup WG F: BEL vs FRA | Hard | 4 | D | 20171124 | 4 | 105676 | NA | ⋯ | 54 | 44 | 13 | 14 | 7 | 10 |  7 | 3775 | 15 | 2320 |\n",
       "| 2885 | 2017-M-DC-2017-WG-M-BEL-FRA-01 | Davis Cup WG F: BEL vs FRA | Hard | 4 | D | 20171124 | 5 | 106298 | NA | ⋯ | 53 | 29 | 11 | 11 | 4 | 11 | 18 | 2235 | 76 |  667 |\n",
       "\n"
      ],
      "text/plain": [
       "     ...1 tourney_id                     tourney_name               surface\n",
       "1    0    2019-M020                      Brisbane                   Hard   \n",
       "2    1    2019-M020                      Brisbane                   Hard   \n",
       "3    2    2019-M020                      Brisbane                   Hard   \n",
       "⋮    ⋮    ⋮                              ⋮                          ⋮      \n",
       "6864 2883 2017-M-DC-2017-WG-M-BEL-FRA-01 Davis Cup WG F: BEL vs FRA Hard   \n",
       "6865 2884 2017-M-DC-2017-WG-M-BEL-FRA-01 Davis Cup WG F: BEL vs FRA Hard   \n",
       "6866 2885 2017-M-DC-2017-WG-M-BEL-FRA-01 Davis Cup WG F: BEL vs FRA Hard   \n",
       "     draw_size tourney_level tourney_date match_num winner_id winner_seed ⋯\n",
       "1    32        A             20181231     300       105453    2           ⋯\n",
       "2    32        A             20181231     299       106421    4           ⋯\n",
       "3    32        A             20181231     298       105453    2           ⋯\n",
       "⋮    ⋮         ⋮             ⋮            ⋮         ⋮         ⋮           ⋱\n",
       "6864 4         D             20171124     2         104542    NA          ⋯\n",
       "6865 4         D             20171124     4         105676    NA          ⋯\n",
       "6866 4         D             20171124     5         106298    NA          ⋯\n",
       "     l_1stIn l_1stWon l_2ndWon l_SvGms l_bpSaved l_bpFaced winner_rank\n",
       "1    54      34       20       14      10        15         9         \n",
       "2    52      36        7       10      10        13        16         \n",
       "3    27      15        6        8       1         5         9         \n",
       "⋮    ⋮       ⋮        ⋮        ⋮       ⋮         ⋮         ⋮          \n",
       "6864 54      30       12       12      5         11        15         \n",
       "6865 54      44       13       14      7         10         7         \n",
       "6866 53      29       11       11      4         11        18         \n",
       "     winner_rank_points loser_rank loser_rank_points\n",
       "1    3590                16        1977             \n",
       "2    1977               239         200             \n",
       "3    3590                40        1050             \n",
       "⋮    ⋮                  ⋮          ⋮                \n",
       "6864 2320               76          667             \n",
       "6865 3775               15         2320             \n",
       "6866 2235               76          667             "
      ]
     },
     "metadata": {},
     "output_type": "display_data"
    }
   ],
   "source": [
    "### Reading in the data from Excel\n",
    "\n",
    "tennis_data <- read_csv(\"data/atp2017-2019.csv\")\n",
    "\n",
    "tennis_data"
   ]
  },
  {
   "cell_type": "code",
   "execution_count": 56,
   "id": "45b6d486-fe80-451f-8aa0-0d5c8c0569d0",
   "metadata": {},
   "outputs": [
    {
     "data": {
      "text/html": [
       "<table class=\"dataframe\">\n",
       "<caption>A tibble: 6733 × 23</caption>\n",
       "<thead>\n",
       "\t<tr><th scope=col>tourney_name</th><th scope=col>surface</th><th scope=col>tourney_date</th><th scope=col>match_num</th><th scope=col>minutes</th><th scope=col>w_ace</th><th scope=col>w_df</th><th scope=col>w_svpt</th><th scope=col>w_1stIn</th><th scope=col>w_1stWon</th><th scope=col>⋯</th><th scope=col>w_bpFaced</th><th scope=col>l_ace</th><th scope=col>l_df</th><th scope=col>l_svpt</th><th scope=col>l_1stIn</th><th scope=col>l_1stWon</th><th scope=col>l_2ndWon</th><th scope=col>l_SvGms</th><th scope=col>l_bpSaved</th><th scope=col>l_bpFaced</th></tr>\n",
       "\t<tr><th scope=col>&lt;chr&gt;</th><th scope=col>&lt;fct&gt;</th><th scope=col>&lt;dbl&gt;</th><th scope=col>&lt;dbl&gt;</th><th scope=col>&lt;dbl&gt;</th><th scope=col>&lt;dbl&gt;</th><th scope=col>&lt;dbl&gt;</th><th scope=col>&lt;dbl&gt;</th><th scope=col>&lt;dbl&gt;</th><th scope=col>&lt;dbl&gt;</th><th scope=col>⋯</th><th scope=col>&lt;dbl&gt;</th><th scope=col>&lt;dbl&gt;</th><th scope=col>&lt;dbl&gt;</th><th scope=col>&lt;dbl&gt;</th><th scope=col>&lt;dbl&gt;</th><th scope=col>&lt;dbl&gt;</th><th scope=col>&lt;dbl&gt;</th><th scope=col>&lt;dbl&gt;</th><th scope=col>&lt;dbl&gt;</th><th scope=col>&lt;dbl&gt;</th></tr>\n",
       "</thead>\n",
       "<tbody>\n",
       "\t<tr><td>Brisbane</td><td>Hard</td><td>20181231</td><td>300</td><td>124</td><td> 3</td><td>3</td><td>77</td><td>44</td><td>31</td><td>⋯</td><td>6</td><td> 8</td><td>6</td><td>100</td><td>54</td><td>34</td><td>20</td><td>14</td><td>10</td><td>15</td></tr>\n",
       "\t<tr><td>Brisbane</td><td>Hard</td><td>20181231</td><td>299</td><td> 82</td><td>10</td><td>1</td><td>52</td><td>33</td><td>28</td><td>⋯</td><td>1</td><td>17</td><td>2</td><td> 77</td><td>52</td><td>36</td><td> 7</td><td>10</td><td>10</td><td>13</td></tr>\n",
       "\t<tr><td>Brisbane</td><td>Hard</td><td>20181231</td><td>298</td><td> 66</td><td> 2</td><td>2</td><td>47</td><td>33</td><td>26</td><td>⋯</td><td>2</td><td>10</td><td>3</td><td> 46</td><td>27</td><td>15</td><td> 6</td><td> 8</td><td> 1</td><td> 5</td></tr>\n",
       "\t<tr><td>⋮</td><td>⋮</td><td>⋮</td><td>⋮</td><td>⋮</td><td>⋮</td><td>⋮</td><td>⋮</td><td>⋮</td><td>⋮</td><td>⋱</td><td>⋮</td><td>⋮</td><td>⋮</td><td>⋮</td><td>⋮</td><td>⋮</td><td>⋮</td><td>⋮</td><td>⋮</td><td>⋮</td></tr>\n",
       "\t<tr><td>Davis Cup WG F: BEL vs FRA</td><td>Hard</td><td>20171124</td><td>2</td><td>106</td><td>12</td><td>2</td><td> 64</td><td>33</td><td>31</td><td>⋯</td><td> 0</td><td> 1</td><td>2</td><td>81</td><td>54</td><td>30</td><td>12</td><td>12</td><td>5</td><td>11</td></tr>\n",
       "\t<tr><td>Davis Cup WG F: BEL vs FRA</td><td>Hard</td><td>20171124</td><td>4</td><td>164</td><td> 1</td><td>0</td><td>122</td><td>71</td><td>47</td><td>⋯</td><td>10</td><td>10</td><td>3</td><td>88</td><td>54</td><td>44</td><td>13</td><td>14</td><td>7</td><td>10</td></tr>\n",
       "\t<tr><td>Davis Cup WG F: BEL vs FRA</td><td>Hard</td><td>20171124</td><td>5</td><td> 94</td><td> 7</td><td>1</td><td> 57</td><td>38</td><td>34</td><td>⋯</td><td> 0</td><td> 1</td><td>0</td><td>87</td><td>53</td><td>29</td><td>11</td><td>11</td><td>4</td><td>11</td></tr>\n",
       "</tbody>\n",
       "</table>\n"
      ],
      "text/latex": [
       "A tibble: 6733 × 23\n",
       "\\begin{tabular}{lllllllllllllllllllll}\n",
       " tourney\\_name & surface & tourney\\_date & match\\_num & minutes & w\\_ace & w\\_df & w\\_svpt & w\\_1stIn & w\\_1stWon & ⋯ & w\\_bpFaced & l\\_ace & l\\_df & l\\_svpt & l\\_1stIn & l\\_1stWon & l\\_2ndWon & l\\_SvGms & l\\_bpSaved & l\\_bpFaced\\\\\n",
       " <chr> & <fct> & <dbl> & <dbl> & <dbl> & <dbl> & <dbl> & <dbl> & <dbl> & <dbl> & ⋯ & <dbl> & <dbl> & <dbl> & <dbl> & <dbl> & <dbl> & <dbl> & <dbl> & <dbl> & <dbl>\\\\\n",
       "\\hline\n",
       "\t Brisbane & Hard & 20181231 & 300 & 124 &  3 & 3 & 77 & 44 & 31 & ⋯ & 6 &  8 & 6 & 100 & 54 & 34 & 20 & 14 & 10 & 15\\\\\n",
       "\t Brisbane & Hard & 20181231 & 299 &  82 & 10 & 1 & 52 & 33 & 28 & ⋯ & 1 & 17 & 2 &  77 & 52 & 36 &  7 & 10 & 10 & 13\\\\\n",
       "\t Brisbane & Hard & 20181231 & 298 &  66 &  2 & 2 & 47 & 33 & 26 & ⋯ & 2 & 10 & 3 &  46 & 27 & 15 &  6 &  8 &  1 &  5\\\\\n",
       "\t ⋮ & ⋮ & ⋮ & ⋮ & ⋮ & ⋮ & ⋮ & ⋮ & ⋮ & ⋮ & ⋱ & ⋮ & ⋮ & ⋮ & ⋮ & ⋮ & ⋮ & ⋮ & ⋮ & ⋮ & ⋮\\\\\n",
       "\t Davis Cup WG F: BEL vs FRA & Hard & 20171124 & 2 & 106 & 12 & 2 &  64 & 33 & 31 & ⋯ &  0 &  1 & 2 & 81 & 54 & 30 & 12 & 12 & 5 & 11\\\\\n",
       "\t Davis Cup WG F: BEL vs FRA & Hard & 20171124 & 4 & 164 &  1 & 0 & 122 & 71 & 47 & ⋯ & 10 & 10 & 3 & 88 & 54 & 44 & 13 & 14 & 7 & 10\\\\\n",
       "\t Davis Cup WG F: BEL vs FRA & Hard & 20171124 & 5 &  94 &  7 & 1 &  57 & 38 & 34 & ⋯ &  0 &  1 & 0 & 87 & 53 & 29 & 11 & 11 & 4 & 11\\\\\n",
       "\\end{tabular}\n"
      ],
      "text/markdown": [
       "\n",
       "A tibble: 6733 × 23\n",
       "\n",
       "| tourney_name &lt;chr&gt; | surface &lt;fct&gt; | tourney_date &lt;dbl&gt; | match_num &lt;dbl&gt; | minutes &lt;dbl&gt; | w_ace &lt;dbl&gt; | w_df &lt;dbl&gt; | w_svpt &lt;dbl&gt; | w_1stIn &lt;dbl&gt; | w_1stWon &lt;dbl&gt; | ⋯ ⋯ | w_bpFaced &lt;dbl&gt; | l_ace &lt;dbl&gt; | l_df &lt;dbl&gt; | l_svpt &lt;dbl&gt; | l_1stIn &lt;dbl&gt; | l_1stWon &lt;dbl&gt; | l_2ndWon &lt;dbl&gt; | l_SvGms &lt;dbl&gt; | l_bpSaved &lt;dbl&gt; | l_bpFaced &lt;dbl&gt; |\n",
       "|---|---|---|---|---|---|---|---|---|---|---|---|---|---|---|---|---|---|---|---|---|\n",
       "| Brisbane | Hard | 20181231 | 300 | 124 |  3 | 3 | 77 | 44 | 31 | ⋯ | 6 |  8 | 6 | 100 | 54 | 34 | 20 | 14 | 10 | 15 |\n",
       "| Brisbane | Hard | 20181231 | 299 |  82 | 10 | 1 | 52 | 33 | 28 | ⋯ | 1 | 17 | 2 |  77 | 52 | 36 |  7 | 10 | 10 | 13 |\n",
       "| Brisbane | Hard | 20181231 | 298 |  66 |  2 | 2 | 47 | 33 | 26 | ⋯ | 2 | 10 | 3 |  46 | 27 | 15 |  6 |  8 |  1 |  5 |\n",
       "| ⋮ | ⋮ | ⋮ | ⋮ | ⋮ | ⋮ | ⋮ | ⋮ | ⋮ | ⋮ | ⋱ | ⋮ | ⋮ | ⋮ | ⋮ | ⋮ | ⋮ | ⋮ | ⋮ | ⋮ | ⋮ |\n",
       "| Davis Cup WG F: BEL vs FRA | Hard | 20171124 | 2 | 106 | 12 | 2 |  64 | 33 | 31 | ⋯ |  0 |  1 | 2 | 81 | 54 | 30 | 12 | 12 | 5 | 11 |\n",
       "| Davis Cup WG F: BEL vs FRA | Hard | 20171124 | 4 | 164 |  1 | 0 | 122 | 71 | 47 | ⋯ | 10 | 10 | 3 | 88 | 54 | 44 | 13 | 14 | 7 | 10 |\n",
       "| Davis Cup WG F: BEL vs FRA | Hard | 20171124 | 5 |  94 |  7 | 1 |  57 | 38 | 34 | ⋯ |  0 |  1 | 0 | 87 | 53 | 29 | 11 | 11 | 4 | 11 |\n",
       "\n"
      ],
      "text/plain": [
       "     tourney_name               surface tourney_date match_num minutes w_ace\n",
       "1    Brisbane                   Hard    20181231     300       124      3   \n",
       "2    Brisbane                   Hard    20181231     299        82     10   \n",
       "3    Brisbane                   Hard    20181231     298        66      2   \n",
       "⋮    ⋮                          ⋮       ⋮            ⋮         ⋮       ⋮    \n",
       "6731 Davis Cup WG F: BEL vs FRA Hard    20171124     2         106     12   \n",
       "6732 Davis Cup WG F: BEL vs FRA Hard    20171124     4         164      1   \n",
       "6733 Davis Cup WG F: BEL vs FRA Hard    20171124     5          94      7   \n",
       "     w_df w_svpt w_1stIn w_1stWon ⋯ w_bpFaced l_ace l_df l_svpt l_1stIn\n",
       "1    3    77     44      31       ⋯ 6          8    6    100    54     \n",
       "2    1    52     33      28       ⋯ 1         17    2     77    52     \n",
       "3    2    47     33      26       ⋯ 2         10    3     46    27     \n",
       "⋮    ⋮    ⋮      ⋮       ⋮        ⋱ ⋮         ⋮     ⋮    ⋮      ⋮      \n",
       "6731 2     64    33      31       ⋯  0         1    2    81     54     \n",
       "6732 0    122    71      47       ⋯ 10        10    3    88     54     \n",
       "6733 1     57    38      34       ⋯  0         1    0    87     53     \n",
       "     l_1stWon l_2ndWon l_SvGms l_bpSaved l_bpFaced\n",
       "1    34       20       14      10        15       \n",
       "2    36        7       10      10        13       \n",
       "3    15        6        8       1         5       \n",
       "⋮    ⋮        ⋮        ⋮       ⋮         ⋮        \n",
       "6731 30       12       12      5         11       \n",
       "6732 44       13       14      7         10       \n",
       "6733 29       11       11      4         11       "
      ]
     },
     "metadata": {},
     "output_type": "display_data"
    }
   ],
   "source": [
    "### Selecting for columns to be used in our project\n",
    "\n",
    "tennis_data_tidy <- tennis_data |>\n",
    "    select(tourney_name, surface, tourney_date, match_num, minutes, w_ace:l_bpFaced) |>\n",
    "    filter(!is.na(minutes), surface != \"None\") |> # Removes all rows with missing minutes \n",
    "    mutate(surface = as.factor(surface))\n",
    "\n",
    "tennis_data_tidy"
   ]
  },
  {
   "cell_type": "code",
   "execution_count": 57,
   "id": "72ad500a-f890-42d0-83a2-13b991f39725",
   "metadata": {},
   "outputs": [],
   "source": [
    "### Spliting of data into training and testing data\n",
    "set.seed(100)\n",
    "\n",
    "tennis_split <- initial_split(tennis_data_tidy, prop = 0.75, strata = surface)\n",
    "tennis_training <- training(tennis_split)\n",
    "tennis_testing <- testing(tennis_split)"
   ]
  },
  {
   "cell_type": "code",
   "execution_count": 63,
   "id": "d34203b8-d44f-40e5-bef1-a2d3b96415cf",
   "metadata": {},
   "outputs": [
    {
     "data": {
      "text/html": [
       "<table class=\"dataframe\">\n",
       "<caption>A tibble: 3 × 1</caption>\n",
       "<thead>\n",
       "\t<tr><th scope=col>is_na_present</th></tr>\n",
       "\t<tr><th scope=col>&lt;lgl&gt;</th></tr>\n",
       "</thead>\n",
       "<tbody>\n",
       "\t<tr><td>TRUE</td></tr>\n",
       "\t<tr><td>TRUE</td></tr>\n",
       "\t<tr><td>TRUE</td></tr>\n",
       "</tbody>\n",
       "</table>\n"
      ],
      "text/latex": [
       "A tibble: 3 × 1\n",
       "\\begin{tabular}{l}\n",
       " is\\_na\\_present\\\\\n",
       " <lgl>\\\\\n",
       "\\hline\n",
       "\t TRUE\\\\\n",
       "\t TRUE\\\\\n",
       "\t TRUE\\\\\n",
       "\\end{tabular}\n"
      ],
      "text/markdown": [
       "\n",
       "A tibble: 3 × 1\n",
       "\n",
       "| is_na_present &lt;lgl&gt; |\n",
       "|---|\n",
       "| TRUE |\n",
       "| TRUE |\n",
       "| TRUE |\n",
       "\n"
      ],
      "text/plain": [
       "  is_na_present\n",
       "1 TRUE         \n",
       "2 TRUE         \n",
       "3 TRUE         "
      ]
     },
     "metadata": {},
     "output_type": "display_data"
    }
   ],
   "source": [
    "### Ignore this for now, I just wanted to see if we had missing values in our training data\n",
    "\n",
    "test <- tibble(is_na_present = rowSums(is.na(tennis_training)) > 0)\n",
    "\n",
    "\n",
    "test_filtered <- test |>\n",
    "    filter(test == TRUE)\n",
    "\n",
    "test_filtered\n",
    "\n"
   ]
  },
  {
   "cell_type": "code",
   "execution_count": 64,
   "id": "30ba9eb7-f685-4250-949e-bdc84ca23210",
   "metadata": {},
   "outputs": [
    {
     "data": {
      "text/html": [
       "<table class=\"dataframe\">\n",
       "<caption>A tibble: 3 × 2</caption>\n",
       "<thead>\n",
       "\t<tr><th scope=col>surface</th><th scope=col>count</th></tr>\n",
       "\t<tr><th scope=col>&lt;fct&gt;</th><th scope=col>&lt;int&gt;</th></tr>\n",
       "</thead>\n",
       "<tbody>\n",
       "\t<tr><td>Clay </td><td>1541</td></tr>\n",
       "\t<tr><td>Grass</td><td> 603</td></tr>\n",
       "\t<tr><td>Hard </td><td>2904</td></tr>\n",
       "</tbody>\n",
       "</table>\n"
      ],
      "text/latex": [
       "A tibble: 3 × 2\n",
       "\\begin{tabular}{ll}\n",
       " surface & count\\\\\n",
       " <fct> & <int>\\\\\n",
       "\\hline\n",
       "\t Clay  & 1541\\\\\n",
       "\t Grass &  603\\\\\n",
       "\t Hard  & 2904\\\\\n",
       "\\end{tabular}\n"
      ],
      "text/markdown": [
       "\n",
       "A tibble: 3 × 2\n",
       "\n",
       "| surface &lt;fct&gt; | count &lt;int&gt; |\n",
       "|---|---|\n",
       "| Clay  | 1541 |\n",
       "| Grass |  603 |\n",
       "| Hard  | 2904 |\n",
       "\n"
      ],
      "text/plain": [
       "  surface count\n",
       "1 Clay    1541 \n",
       "2 Grass    603 \n",
       "3 Hard    2904 "
      ]
     },
     "metadata": {},
     "output_type": "display_data"
    }
   ],
   "source": [
    "### Summary of the data\n",
    "\n",
    "### Finding number of different surfaces within the data\n",
    "\n",
    "surface_types <- tennis_training |>\n",
    "    group_by(surface) |>\n",
    "    summarize(count = n())\n",
    "\n",
    "surface_types"
   ]
  },
  {
   "cell_type": "code",
   "execution_count": null,
   "id": "77812d05-01b1-4229-aa2c-304fa024a7c6",
   "metadata": {},
   "outputs": [],
   "source": []
  }
 ],
 "metadata": {
  "kernelspec": {
   "display_name": "R",
   "language": "R",
   "name": "ir"
  },
  "language_info": {
   "codemirror_mode": "r",
   "file_extension": ".r",
   "mimetype": "text/x-r-source",
   "name": "R",
   "pygments_lexer": "r",
   "version": "4.1.3"
  }
 },
 "nbformat": 4,
 "nbformat_minor": 5
}
